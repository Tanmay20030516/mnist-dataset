{
  "cells": [
    {
      "attachments": {},
      "cell_type": "markdown",
      "metadata": {
        "colab_type": "text",
        "id": "view-in-github"
      },
      "source": [
        "<a href=\"https://colab.research.google.com/github/Swastik3025/mnist-dataset/blob/main/mnist_digit_classification_using_SGDClassifier.ipynb\" target=\"_parent\"><img src=\"https://colab.research.google.com/assets/colab-badge.svg\" alt=\"Open In Colab\"/></a>"
      ]
    },
    {
      "cell_type": "code",
      "execution_count": 63,
      "metadata": {
        "id": "Jq-L0LM5n9jT"
      },
      "outputs": [],
      "source": [
        "import numpy as np\n",
        "import pandas as pd\n",
        "import matplotlib.pyplot as plt\n",
        "import seaborn as sns\n",
        "%matplotlib inline\n",
        "import sklearn\n",
        "\n",
        "import warnings\n",
        "warnings.filterwarnings('ignore')\n"
      ]
    },
    {
      "cell_type": "code",
      "execution_count": 64,
      "metadata": {
        "colab": {
          "base_uri": "https://localhost:8080/"
        },
        "id": "SPCb6GQl2ef0",
        "outputId": "22dfce22-3a0f-414d-e643-a824d7f04266"
      },
      "outputs": [
        {
          "data": {
            "text/plain": [
              "{'data': array([[ 0.,  0.,  5., ...,  0.,  0.,  0.],\n",
              "        [ 0.,  0.,  0., ..., 10.,  0.,  0.],\n",
              "        [ 0.,  0.,  0., ..., 16.,  9.,  0.],\n",
              "        ...,\n",
              "        [ 0.,  0.,  1., ...,  6.,  0.,  0.],\n",
              "        [ 0.,  0.,  2., ..., 12.,  0.,  0.],\n",
              "        [ 0.,  0., 10., ..., 12.,  1.,  0.]]),\n",
              " 'target': array([0, 1, 2, ..., 8, 9, 8]),\n",
              " 'frame': None,\n",
              " 'feature_names': ['pixel_0_0',\n",
              "  'pixel_0_1',\n",
              "  'pixel_0_2',\n",
              "  'pixel_0_3',\n",
              "  'pixel_0_4',\n",
              "  'pixel_0_5',\n",
              "  'pixel_0_6',\n",
              "  'pixel_0_7',\n",
              "  'pixel_1_0',\n",
              "  'pixel_1_1',\n",
              "  'pixel_1_2',\n",
              "  'pixel_1_3',\n",
              "  'pixel_1_4',\n",
              "  'pixel_1_5',\n",
              "  'pixel_1_6',\n",
              "  'pixel_1_7',\n",
              "  'pixel_2_0',\n",
              "  'pixel_2_1',\n",
              "  'pixel_2_2',\n",
              "  'pixel_2_3',\n",
              "  'pixel_2_4',\n",
              "  'pixel_2_5',\n",
              "  'pixel_2_6',\n",
              "  'pixel_2_7',\n",
              "  'pixel_3_0',\n",
              "  'pixel_3_1',\n",
              "  'pixel_3_2',\n",
              "  'pixel_3_3',\n",
              "  'pixel_3_4',\n",
              "  'pixel_3_5',\n",
              "  'pixel_3_6',\n",
              "  'pixel_3_7',\n",
              "  'pixel_4_0',\n",
              "  'pixel_4_1',\n",
              "  'pixel_4_2',\n",
              "  'pixel_4_3',\n",
              "  'pixel_4_4',\n",
              "  'pixel_4_5',\n",
              "  'pixel_4_6',\n",
              "  'pixel_4_7',\n",
              "  'pixel_5_0',\n",
              "  'pixel_5_1',\n",
              "  'pixel_5_2',\n",
              "  'pixel_5_3',\n",
              "  'pixel_5_4',\n",
              "  'pixel_5_5',\n",
              "  'pixel_5_6',\n",
              "  'pixel_5_7',\n",
              "  'pixel_6_0',\n",
              "  'pixel_6_1',\n",
              "  'pixel_6_2',\n",
              "  'pixel_6_3',\n",
              "  'pixel_6_4',\n",
              "  'pixel_6_5',\n",
              "  'pixel_6_6',\n",
              "  'pixel_6_7',\n",
              "  'pixel_7_0',\n",
              "  'pixel_7_1',\n",
              "  'pixel_7_2',\n",
              "  'pixel_7_3',\n",
              "  'pixel_7_4',\n",
              "  'pixel_7_5',\n",
              "  'pixel_7_6',\n",
              "  'pixel_7_7'],\n",
              " 'target_names': array([0, 1, 2, 3, 4, 5, 6, 7, 8, 9]),\n",
              " 'images': array([[[ 0.,  0.,  5., ...,  1.,  0.,  0.],\n",
              "         [ 0.,  0., 13., ..., 15.,  5.,  0.],\n",
              "         [ 0.,  3., 15., ..., 11.,  8.,  0.],\n",
              "         ...,\n",
              "         [ 0.,  4., 11., ..., 12.,  7.,  0.],\n",
              "         [ 0.,  2., 14., ..., 12.,  0.,  0.],\n",
              "         [ 0.,  0.,  6., ...,  0.,  0.,  0.]],\n",
              " \n",
              "        [[ 0.,  0.,  0., ...,  5.,  0.,  0.],\n",
              "         [ 0.,  0.,  0., ...,  9.,  0.,  0.],\n",
              "         [ 0.,  0.,  3., ...,  6.,  0.,  0.],\n",
              "         ...,\n",
              "         [ 0.,  0.,  1., ...,  6.,  0.,  0.],\n",
              "         [ 0.,  0.,  1., ...,  6.,  0.,  0.],\n",
              "         [ 0.,  0.,  0., ..., 10.,  0.,  0.]],\n",
              " \n",
              "        [[ 0.,  0.,  0., ..., 12.,  0.,  0.],\n",
              "         [ 0.,  0.,  3., ..., 14.,  0.,  0.],\n",
              "         [ 0.,  0.,  8., ..., 16.,  0.,  0.],\n",
              "         ...,\n",
              "         [ 0.,  9., 16., ...,  0.,  0.,  0.],\n",
              "         [ 0.,  3., 13., ..., 11.,  5.,  0.],\n",
              "         [ 0.,  0.,  0., ..., 16.,  9.,  0.]],\n",
              " \n",
              "        ...,\n",
              " \n",
              "        [[ 0.,  0.,  1., ...,  1.,  0.,  0.],\n",
              "         [ 0.,  0., 13., ...,  2.,  1.,  0.],\n",
              "         [ 0.,  0., 16., ..., 16.,  5.,  0.],\n",
              "         ...,\n",
              "         [ 0.,  0., 16., ..., 15.,  0.,  0.],\n",
              "         [ 0.,  0., 15., ..., 16.,  0.,  0.],\n",
              "         [ 0.,  0.,  2., ...,  6.,  0.,  0.]],\n",
              " \n",
              "        [[ 0.,  0.,  2., ...,  0.,  0.,  0.],\n",
              "         [ 0.,  0., 14., ..., 15.,  1.,  0.],\n",
              "         [ 0.,  4., 16., ..., 16.,  7.,  0.],\n",
              "         ...,\n",
              "         [ 0.,  0.,  0., ..., 16.,  2.,  0.],\n",
              "         [ 0.,  0.,  4., ..., 16.,  2.,  0.],\n",
              "         [ 0.,  0.,  5., ..., 12.,  0.,  0.]],\n",
              " \n",
              "        [[ 0.,  0., 10., ...,  1.,  0.,  0.],\n",
              "         [ 0.,  2., 16., ...,  1.,  0.,  0.],\n",
              "         [ 0.,  0., 15., ..., 15.,  0.,  0.],\n",
              "         ...,\n",
              "         [ 0.,  4., 16., ..., 16.,  6.,  0.],\n",
              "         [ 0.,  8., 16., ..., 16.,  8.,  0.],\n",
              "         [ 0.,  1.,  8., ..., 12.,  1.,  0.]]]),\n",
              " 'DESCR': \".. _digits_dataset:\\n\\nOptical recognition of handwritten digits dataset\\n--------------------------------------------------\\n\\n**Data Set Characteristics:**\\n\\n    :Number of Instances: 1797\\n    :Number of Attributes: 64\\n    :Attribute Information: 8x8 image of integer pixels in the range 0..16.\\n    :Missing Attribute Values: None\\n    :Creator: E. Alpaydin (alpaydin '@' boun.edu.tr)\\n    :Date: July; 1998\\n\\nThis is a copy of the test set of the UCI ML hand-written digits datasets\\nhttps://archive.ics.uci.edu/ml/datasets/Optical+Recognition+of+Handwritten+Digits\\n\\nThe data set contains images of hand-written digits: 10 classes where\\neach class refers to a digit.\\n\\nPreprocessing programs made available by NIST were used to extract\\nnormalized bitmaps of handwritten digits from a preprinted form. From a\\ntotal of 43 people, 30 contributed to the training set and different 13\\nto the test set. 32x32 bitmaps are divided into nonoverlapping blocks of\\n4x4 and the number of on pixels are counted in each block. This generates\\nan input matrix of 8x8 where each element is an integer in the range\\n0..16. This reduces dimensionality and gives invariance to small\\ndistortions.\\n\\nFor info on NIST preprocessing routines, see M. D. Garris, J. L. Blue, G.\\nT. Candela, D. L. Dimmick, J. Geist, P. J. Grother, S. A. Janet, and C.\\nL. Wilson, NIST Form-Based Handprint Recognition System, NISTIR 5469,\\n1994.\\n\\n.. topic:: References\\n\\n  - C. Kaynak (1995) Methods of Combining Multiple Classifiers and Their\\n    Applications to Handwritten Digit Recognition, MSc Thesis, Institute of\\n    Graduate Studies in Science and Engineering, Bogazici University.\\n  - E. Alpaydin, C. Kaynak (1998) Cascading Classifiers, Kybernetika.\\n  - Ken Tang and Ponnuthurai N. Suganthan and Xi Yao and A. Kai Qin.\\n    Linear dimensionalityreduction using relevance weighted LDA. School of\\n    Electrical and Electronic Engineering Nanyang Technological University.\\n    2005.\\n  - Claudio Gentile. A New Approximate Maximal Margin Classification\\n    Algorithm. NIPS. 2000.\\n\"}"
            ]
          },
          "execution_count": 64,
          "metadata": {},
          "output_type": "execute_result"
        }
      ],
      "source": [
        "from sklearn.datasets import load_digits\n",
        "mnist=load_digits() # creating the instance of load_digits dict\n",
        "mnist"
      ]
    },
    {
      "cell_type": "code",
      "execution_count": 65,
      "metadata": {
        "colab": {
          "base_uri": "https://localhost:8080/"
        },
        "id": "uHA_NuQ52hSZ",
        "outputId": "95895386-3210-4882-b0d3-e66802907d22"
      },
      "outputs": [
        {
          "data": {
            "text/plain": [
              "['DESCR', 'data', 'feature_names', 'frame', 'images', 'target', 'target_names']"
            ]
          },
          "execution_count": 65,
          "metadata": {},
          "output_type": "execute_result"
        }
      ],
      "source": [
        "# knowing about the keys of the dict / dataset mnist\n",
        "dir(mnist)"
      ]
    },
    {
      "cell_type": "code",
      "execution_count": 66,
      "metadata": {
        "colab": {
          "base_uri": "https://localhost:8080/",
          "height": 1000
        },
        "id": "8xEpYhqO2lF1",
        "outputId": "b81abe06-e651-4011-e039-4bc39bfedbd8"
      },
      "outputs": [
        {
          "data": {
            "text/plain": [
              "<Figure size 432x288 with 0 Axes>"
            ]
          },
          "metadata": {},
          "output_type": "display_data"
        },
        {
          "data": {
            "image/png": "[encoded data removed]",
            "text/plain": [
              "<Figure size 288x288 with 1 Axes>"
            ]
          },
          "metadata": {
            "needs_background": "light"
          },
          "output_type": "display_data"
        },
        {
          "data": {
            "image/png": "[encoded data removed]",
            "text/plain": [
              "<Figure size 288x288 with 1 Axes>"
            ]
          },
          "metadata": {
            "needs_background": "light"
          },
          "output_type": "display_data"
        },
        {
          "data": {
            "image/png": "[encoded data removed]",
            "text/plain": [
              "<Figure size 288x288 with 1 Axes>"
            ]
          },
          "metadata": {
            "needs_background": "light"
          },
          "output_type": "display_data"
        },
        {
          "data": {
            "image/png": "[encoded data removed]",
            "text/plain": [
              "<Figure size 288x288 with 1 Axes>"
            ]
          },
          "metadata": {
            "needs_background": "light"
          },
          "output_type": "display_data"
        },
        {
          "data": {
            "image/png": "[encoded data removed]",
            "text/plain": [
              "<Figure size 288x288 with 1 Axes>"
            ]
          },
          "metadata": {
            "needs_background": "light"
          },
          "output_type": "display_data"
        }
      ],
      "source": [
        "# visualizing the first 5 digits of the dataset\n",
        "plt.gray()\n",
        "for i in range(5):\n",
        "  plt.matshow(mnist.images[i])"
      ]
    },
    {
      "cell_type": "code",
      "execution_count": 67,
      "metadata": {
        "colab": {
          "base_uri": "https://localhost:8080/"
        },
        "id": "2Ro3L-L72oDh",
        "outputId": "d747e34a-8351-4f2a-bb12-a9d01e0321bc"
      },
      "outputs": [
        {
          "name": "stdout",
          "output_type": "stream",
          "text": [
            "(1797, 64)\n",
            "(1797,)\n"
          ]
        }
      ],
      "source": [
        "# extracting the input data and the corr. target values\n",
        "X,y=mnist[\"data\"],mnist[\"target\"]\n",
        "print(X.shape)\n",
        "print(y.shape)"
      ]
    },
    {
      "cell_type": "code",
      "execution_count": 68,
      "metadata": {},
      "outputs": [
        {
          "data": {
            "text/plain": [
              "array([[ 0.,  0.,  5., 13.,  9.,  1.,  0.,  0.],\n",
              "       [ 0.,  0., 13., 15., 10., 15.,  5.,  0.],\n",
              "       [ 0.,  3., 15.,  2.,  0., 11.,  8.,  0.],\n",
              "       [ 0.,  4., 12.,  0.,  0.,  8.,  8.,  0.],\n",
              "       [ 0.,  5.,  8.,  0.,  0.,  9.,  8.,  0.],\n",
              "       [ 0.,  4., 11.,  0.,  1., 12.,  7.,  0.],\n",
              "       [ 0.,  2., 14.,  5., 10., 12.,  0.,  0.],\n",
              "       [ 0.,  0.,  6., 13., 10.,  0.,  0.,  0.]])"
            ]
          },
          "execution_count": 68,
          "metadata": {},
          "output_type": "execute_result"
        }
      ],
      "source": [
        "X[0]\n",
        "X[0].reshape(8,8)"
      ]
    },
    {
      "cell_type": "code",
      "execution_count": 69,
      "metadata": {
        "colab": {
          "base_uri": "https://localhost:8080/",
          "height": 406
        },
        "id": "13g1kevF2skB",
        "outputId": "5860b7cb-cb1c-4a96-b96c-9dc9a5dc90b3"
      },
      "outputs": [
        {
          "data": {
            "image/png": "[encoded data removed]",
            "text/plain": [
              "<Figure size 432x288 with 1 Axes>"
            ]
          },
          "metadata": {
            "needs_background": "light"
          },
          "output_type": "display_data"
        }
      ],
      "source": [
        "import matplotlib\n",
        "\n",
        "# visualize the imput data\n",
        "some_digit=X[1000] # is a 1d array\n",
        "# reshaping the array as 8x8 (images in the dataset are 8x8 pixels)\n",
        "some_digit_image=some_digit.reshape(8,8)\n",
        "plt.imshow(some_digit_image,cmap=matplotlib.cm.binary,interpolation=\"nearest\")\n",
        "plt.axis(\"off\")\n",
        "plt.show()"
      ]
    },
    {
      "cell_type": "code",
      "execution_count": 70,
      "metadata": {
        "id": "dINNiXao2u4f"
      },
      "outputs": [],
      "source": [
        "# moving towards model training\n",
        "\n",
        "# train-test split\n",
        "from sklearn.model_selection import train_test_split\n",
        "X_train,X_test,y_train,y_test=train_test_split(X,y,test_size=0.15)"
      ]
    },
    {
      "cell_type": "code",
      "execution_count": 71,
      "metadata": {
        "colab": {
          "base_uri": "https://localhost:8080/"
        },
        "id": "qjE0GB0C2yFT",
        "outputId": "c8e8ac08-26a7-47c3-bd95-d581cb58c607"
      },
      "outputs": [
        {
          "data": {
            "text/plain": [
              "(1527, 64)"
            ]
          },
          "execution_count": 71,
          "metadata": {},
          "output_type": "execute_result"
        }
      ],
      "source": [
        "X_train.shape"
      ]
    },
    {
      "cell_type": "code",
      "execution_count": 72,
      "metadata": {},
      "outputs": [
        {
          "data": {
            "text/plain": [
              "(1527,)"
            ]
          },
          "execution_count": 72,
          "metadata": {},
          "output_type": "execute_result"
        }
      ],
      "source": [
        "y_train.shape"
      ]
    },
    {
      "cell_type": "code",
      "execution_count": 73,
      "metadata": {},
      "outputs": [],
      "source": [
        "# X_train is a 2d array with each row as a 64 sized array containing the pixel densities"
      ]
    },
    {
      "cell_type": "code",
      "execution_count": 74,
      "metadata": {
        "id": "lxExtyrL21nB"
      },
      "outputs": [],
      "source": [
        "shuffle_index=np.random.permutation(1527) # for generating random X_train and y_train sets\n",
        "X_train,y_train=X_train[shuffle_index],y_train[shuffle_index]\n",
        "\n",
        "# above result can also be achieved by passing a parameter random_state in the function train_test_split"
      ]
    },
    {
      "cell_type": "code",
      "execution_count": 75,
      "metadata": {
        "id": "Fy53KpSm28Rf"
      },
      "outputs": [],
      "source": [
        "y_train_1=(y_train==1) # train set with target labels as '1'\n",
        "y_test_1=(y_test==1) # test set with target labels as '1'\n",
        "\n",
        "# we get y_train_1, y_test_1 as boolean array\n",
        "\n",
        "# print(y_train_1)\n",
        "# print(y_test_1)"
      ]
    },
    {
      "cell_type": "code",
      "execution_count": 76,
      "metadata": {
        "colab": {
          "base_uri": "https://localhost:8080/",
          "height": 74
        },
        "id": "4Dmuazi62_hF",
        "outputId": "15e6116e-912e-4126-f18d-427238d4cf43"
      },
      "outputs": [
        {
          "data": {
            "text/html": [
              "<style>#sk-container-id-3 {color: black;background-color: white;}#sk-container-id-3 pre{padding: 0;}#sk-container-id-3 div.sk-toggleable {background-color: white;}#sk-container-id-3 label.sk-toggleable__label {cursor: pointer;display: block;width: 100%;margin-bottom: 0;padding: 0.3em;box-sizing: border-box;text-align: center;}#sk-container-id-3 label.sk-toggleable__label-arrow:before {content: \"▸\";float: left;margin-right: 0.25em;color: #696969;}#sk-container-id-3 label.sk-toggleable__label-arrow:hover:before {color: black;}#sk-container-id-3 div.sk-estimator:hover label.sk-toggleable__label-arrow:before {color: black;}#sk-container-id-3 div.sk-toggleable__content {max-height: 0;max-width: 0;overflow: hidden;text-align: left;background-color: #f0f8ff;}#sk-container-id-3 div.sk-toggleable__content pre {margin: 0.2em;color: black;border-radius: 0.25em;background-color: #f0f8ff;}#sk-container-id-3 input.sk-toggleable__control:checked~div.sk-toggleable__content {max-height: 200px;max-width: 100%;overflow: auto;}#sk-container-id-3 input.sk-toggleable__control:checked~label.sk-toggleable__label-arrow:before {content: \"▾\";}#sk-container-id-3 div.sk-estimator input.sk-toggleable__control:checked~label.sk-toggleable__label {background-color: #d4ebff;}#sk-container-id-3 div.sk-label input.sk-toggleable__control:checked~label.sk-toggleable__label {background-color: #d4ebff;}#sk-container-id-3 input.sk-hidden--visually {border: 0;clip: rect(1px 1px 1px 1px);clip: rect(1px, 1px, 1px, 1px);height: 1px;margin: -1px;overflow: hidden;padding: 0;position: absolute;width: 1px;}#sk-container-id-3 div.sk-estimator {font-family: monospace;background-color: #f0f8ff;border: 1px dotted black;border-radius: 0.25em;box-sizing: border-box;margin-bottom: 0.5em;}#sk-container-id-3 div.sk-estimator:hover {background-color: #d4ebff;}#sk-container-id-3 div.sk-parallel-item::after {content: \"\";width: 100%;border-bottom: 1px solid gray;flex-grow: 1;}#sk-container-id-3 div.sk-label:hover label.sk-toggleable__label {background-color: #d4ebff;}#sk-container-id-3 div.sk-serial::before {content: \"\";position: absolute;border-left: 1px solid gray;box-sizing: border-box;top: 0;bottom: 0;left: 50%;z-index: 0;}#sk-container-id-3 div.sk-serial {display: flex;flex-direction: column;align-items: center;background-color: white;padding-right: 0.2em;padding-left: 0.2em;position: relative;}#sk-container-id-3 div.sk-item {position: relative;z-index: 1;}#sk-container-id-3 div.sk-parallel {display: flex;align-items: stretch;justify-content: center;background-color: white;position: relative;}#sk-container-id-3 div.sk-item::before, #sk-container-id-3 div.sk-parallel-item::before {content: \"\";position: absolute;border-left: 1px solid gray;box-sizing: border-box;top: 0;bottom: 0;left: 50%;z-index: -1;}#sk-container-id-3 div.sk-parallel-item {display: flex;flex-direction: column;z-index: 1;position: relative;background-color: white;}#sk-container-id-3 div.sk-parallel-item:first-child::after {align-self: flex-end;width: 50%;}#sk-container-id-3 div.sk-parallel-item:last-child::after {align-self: flex-start;width: 50%;}#sk-container-id-3 div.sk-parallel-item:only-child::after {width: 0;}#sk-container-id-3 div.sk-dashed-wrapped {border: 1px dashed gray;margin: 0 0.4em 0.5em 0.4em;box-sizing: border-box;padding-bottom: 0.4em;background-color: white;}#sk-container-id-3 div.sk-label label {font-family: monospace;font-weight: bold;display: inline-block;line-height: 1.2em;}#sk-container-id-3 div.sk-label-container {text-align: center;}#sk-container-id-3 div.sk-container {/* jupyter's `normalize.less` sets `[hidden] { display: none; }` but bootstrap.min.css set `[hidden] { display: none !important; }` so we also need the `!important` here to be able to override the default hidden behavior on the sphinx rendered scikit-learn.org. See: https://github.com/scikit-learn/scikit-learn/issues/21755 */display: inline-block !important;position: relative;}#sk-container-id-3 div.sk-text-repr-fallback {display: none;}</style><div id=\"sk-container-id-3\" class=\"sk-top-container\"><div class=\"sk-text-repr-fallback\"><pre>SGDClassifier(random_state=42)</pre><b>In a Jupyter environment, please rerun this cell to show the HTML representation or trust the notebook. <br />On GitHub, the HTML representation is unable to render, please try loading this page with nbviewer.org.</b></div><div class=\"sk-container\" hidden><div class=\"sk-item\"><div class=\"sk-estimator sk-toggleable\"><input class=\"sk-toggleable__control sk-hidden--visually\" id=\"sk-estimator-id-3\" type=\"checkbox\" checked><label for=\"sk-estimator-id-3\" class=\"sk-toggleable__label sk-toggleable__label-arrow\">SGDClassifier</label><div class=\"sk-toggleable__content\"><pre>SGDClassifier(random_state=42)</pre></div></div></div></div></div>"
            ],
            "text/plain": [
              "SGDClassifier(random_state=42)"
            ]
          },
          "execution_count": 76,
          "metadata": {},
          "output_type": "execute_result"
        }
      ],
      "source": [
        "# training the model for just classifying the digit '1'\n",
        "\n",
        "# using a Stochastic Gradient Descent Classifier\n",
        "from sklearn.linear_model import SGDClassifier\n",
        "sgd_clf=SGDClassifier(random_state=42)\n",
        "sgd_clf.fit(X_train,y_train_1)"
      ]
    },
    {
      "cell_type": "code",
      "execution_count": 77,
      "metadata": {
        "colab": {
          "base_uri": "https://localhost:8080/"
        },
        "id": "O-_H7wAr3BiY",
        "outputId": "c48aeec2-a4a0-476b-f127-829533d65f46"
      },
      "outputs": [
        {
          "data": {
            "text/plain": [
              "array([ True])"
            ]
          },
          "execution_count": 77,
          "metadata": {},
          "output_type": "execute_result"
        }
      ],
      "source": [
        "# some_digit=X[1000]\n",
        "sgd_clf.predict([some_digit])"
      ]
    },
    {
      "cell_type": "code",
      "execution_count": 78,
      "metadata": {
        "colab": {
          "base_uri": "https://localhost:8080/",
          "height": 74
        },
        "id": "qK53HJxT3GD5",
        "outputId": "6ae32229-ca79-4a58-fbd5-ed3747500617"
      },
      "outputs": [
        {
          "data": {
            "text/html": [
              "<style>#sk-container-id-4 {color: black;background-color: white;}#sk-container-id-4 pre{padding: 0;}#sk-container-id-4 div.sk-toggleable {background-color: white;}#sk-container-id-4 label.sk-toggleable__label {cursor: pointer;display: block;width: 100%;margin-bottom: 0;padding: 0.3em;box-sizing: border-box;text-align: center;}#sk-container-id-4 label.sk-toggleable__label-arrow:before {content: \"▸\";float: left;margin-right: 0.25em;color: #696969;}#sk-container-id-4 label.sk-toggleable__label-arrow:hover:before {color: black;}#sk-container-id-4 div.sk-estimator:hover label.sk-toggleable__label-arrow:before {color: black;}#sk-container-id-4 div.sk-toggleable__content {max-height: 0;max-width: 0;overflow: hidden;text-align: left;background-color: #f0f8ff;}#sk-container-id-4 div.sk-toggleable__content pre {margin: 0.2em;color: black;border-radius: 0.25em;background-color: #f0f8ff;}#sk-container-id-4 input.sk-toggleable__control:checked~div.sk-toggleable__content {max-height: 200px;max-width: 100%;overflow: auto;}#sk-container-id-4 input.sk-toggleable__control:checked~label.sk-toggleable__label-arrow:before {content: \"▾\";}#sk-container-id-4 div.sk-estimator input.sk-toggleable__control:checked~label.sk-toggleable__label {background-color: #d4ebff;}#sk-container-id-4 div.sk-label input.sk-toggleable__control:checked~label.sk-toggleable__label {background-color: #d4ebff;}#sk-container-id-4 input.sk-hidden--visually {border: 0;clip: rect(1px 1px 1px 1px);clip: rect(1px, 1px, 1px, 1px);height: 1px;margin: -1px;overflow: hidden;padding: 0;position: absolute;width: 1px;}#sk-container-id-4 div.sk-estimator {font-family: monospace;background-color: #f0f8ff;border: 1px dotted black;border-radius: 0.25em;box-sizing: border-box;margin-bottom: 0.5em;}#sk-container-id-4 div.sk-estimator:hover {background-color: #d4ebff;}#sk-container-id-4 div.sk-parallel-item::after {content: \"\";width: 100%;border-bottom: 1px solid gray;flex-grow: 1;}#sk-container-id-4 div.sk-label:hover label.sk-toggleable__label {background-color: #d4ebff;}#sk-container-id-4 div.sk-serial::before {content: \"\";position: absolute;border-left: 1px solid gray;box-sizing: border-box;top: 0;bottom: 0;left: 50%;z-index: 0;}#sk-container-id-4 div.sk-serial {display: flex;flex-direction: column;align-items: center;background-color: white;padding-right: 0.2em;padding-left: 0.2em;position: relative;}#sk-container-id-4 div.sk-item {position: relative;z-index: 1;}#sk-container-id-4 div.sk-parallel {display: flex;align-items: stretch;justify-content: center;background-color: white;position: relative;}#sk-container-id-4 div.sk-item::before, #sk-container-id-4 div.sk-parallel-item::before {content: \"\";position: absolute;border-left: 1px solid gray;box-sizing: border-box;top: 0;bottom: 0;left: 50%;z-index: -1;}#sk-container-id-4 div.sk-parallel-item {display: flex;flex-direction: column;z-index: 1;position: relative;background-color: white;}#sk-container-id-4 div.sk-parallel-item:first-child::after {align-self: flex-end;width: 50%;}#sk-container-id-4 div.sk-parallel-item:last-child::after {align-self: flex-start;width: 50%;}#sk-container-id-4 div.sk-parallel-item:only-child::after {width: 0;}#sk-container-id-4 div.sk-dashed-wrapped {border: 1px dashed gray;margin: 0 0.4em 0.5em 0.4em;box-sizing: border-box;padding-bottom: 0.4em;background-color: white;}#sk-container-id-4 div.sk-label label {font-family: monospace;font-weight: bold;display: inline-block;line-height: 1.2em;}#sk-container-id-4 div.sk-label-container {text-align: center;}#sk-container-id-4 div.sk-container {/* jupyter's `normalize.less` sets `[hidden] { display: none; }` but bootstrap.min.css set `[hidden] { display: none !important; }` so we also need the `!important` here to be able to override the default hidden behavior on the sphinx rendered scikit-learn.org. See: https://github.com/scikit-learn/scikit-learn/issues/21755 */display: inline-block !important;position: relative;}#sk-container-id-4 div.sk-text-repr-fallback {display: none;}</style><div id=\"sk-container-id-4\" class=\"sk-top-container\"><div class=\"sk-text-repr-fallback\"><pre>SGDClassifier(random_state=45)</pre><b>In a Jupyter environment, please rerun this cell to show the HTML representation or trust the notebook. <br />On GitHub, the HTML representation is unable to render, please try loading this page with nbviewer.org.</b></div><div class=\"sk-container\" hidden><div class=\"sk-item\"><div class=\"sk-estimator sk-toggleable\"><input class=\"sk-toggleable__control sk-hidden--visually\" id=\"sk-estimator-id-4\" type=\"checkbox\" checked><label for=\"sk-estimator-id-4\" class=\"sk-toggleable__label sk-toggleable__label-arrow\">SGDClassifier</label><div class=\"sk-toggleable__content\"><pre>SGDClassifier(random_state=45)</pre></div></div></div></div></div>"
            ],
            "text/plain": [
              "SGDClassifier(random_state=45)"
            ]
          },
          "execution_count": 78,
          "metadata": {},
          "output_type": "execute_result"
        }
      ],
      "source": [
        "# instantiate the model\n",
        "sgd_clf1=SGDClassifier(random_state=45)\n",
        "sgd_clf1.fit(X_train,y_train)"
      ]
    },
    {
      "cell_type": "code",
      "execution_count": 79,
      "metadata": {},
      "outputs": [
        {
          "data": {
            "text/plain": [
              "array([1])"
            ]
          },
          "execution_count": 79,
          "metadata": {},
          "output_type": "execute_result"
        }
      ],
      "source": [
        "sgd_clf1.predict([some_digit])"
      ]
    },
    {
      "cell_type": "code",
      "execution_count": 80,
      "metadata": {
        "colab": {
          "base_uri": "https://localhost:8080/"
        },
        "id": "rb6Uyjkh3JJa",
        "outputId": "55bd61dc-ff22-46b3-a7cd-c78aa055355f"
      },
      "outputs": [
        {
          "name": "stdout",
          "output_type": "stream",
          "text": [
            "The score is 0.94444444\n"
          ]
        }
      ],
      "source": [
        "score = sgd_clf1.score(X_test,y_test)\n",
        "print(f\"The score is {score.round(8)}\")"
      ]
    },
    {
      "cell_type": "code",
      "execution_count": 81,
      "metadata": {
        "id": "-eBuS5sr3Lun"
      },
      "outputs": [],
      "source": [
        "# it may happen that the model has overfit the data, so to get a generalised performance of the model, we perform k fold (stratified) cross validation\n",
        "# stratified here means keeping the number ratio of different classes/features same across sub samples taken (preserving the percentage of samples for each class)\n",
        "\n",
        "from sklearn.model_selection import StratifiedKFold\n",
        "from sklearn.base import clone"
      ]
    },
    {
      "cell_type": "code",
      "execution_count": 82,
      "metadata": {
        "colab": {
          "base_uri": "https://localhost:8080/"
        },
        "id": "swt1H8L23OFM",
        "outputId": "1d504a5d-cfff-4255-bc4b-2594e3e02325"
      },
      "outputs": [
        {
          "name": "stdout",
          "output_type": "stream",
          "text": [
            "Scores:[0.95424837, 0.9379085, 0.95409836, 0.96065574, 0.95737705]\n"
          ]
        }
      ],
      "source": [
        "skfolds=StratifiedKFold(n_splits=5,shuffle=True,random_state=45)\n",
        "\n",
        "scores = []\n",
        "\n",
        "for train_index,test_index in skfolds.split(X_train,y_train):\n",
        "  clone_clf=clone(sgd_clf1) # copy the model and train it every time for each fold\n",
        "  X_train_folds=X_train[train_index]\n",
        "  y_train_folds=y_train[train_index]\n",
        "  X_test_fold=X_train[test_index]\n",
        "  y_test_fold=y_train[test_index]\n",
        "  clone_clf.fit(X_train_folds,y_train_folds)\n",
        "  y_pred=clone_clf.predict(X_test_fold)\n",
        "  n_correct=sum(y_pred==y_test_fold)\n",
        "  scores.append((n_correct/len(y_pred)).round(8)) # n_correct/len(y_pred) gives the ratio of correct predictions\n",
        "\n",
        "print(f\"Scores:{scores}\")"
      ]
    },
    {
      "cell_type": "code",
      "execution_count": 83,
      "metadata": {
        "colab": {
          "base_uri": "https://localhost:8080/"
        },
        "id": "yx5Qrt9DtMs0",
        "outputId": "fd158901-7a91-4b60-e608-da3da3ade7ba"
      },
      "outputs": [
        {
          "name": "stdout",
          "output_type": "stream",
          "text": [
            "Average model score: 0.94890603\n"
          ]
        }
      ],
      "source": [
        "# above code can be greatly simplified using cross_val_score from sklearn.model_selection\n",
        "\n",
        "from sklearn.model_selection import cross_val_score\n",
        "cv_score = cross_val_score(sgd_clf1,X_train,y_train,cv=5,scoring='accuracy')\n",
        "\n",
        "print(f\"Average model score: {cv_score.mean().round(8)}\")"
      ]
    },
    {
      "cell_type": "code",
      "execution_count": 84,
      "metadata": {
        "id": "gi9pL2het0CB"
      },
      "outputs": [
        {
          "data": {
            "text/plain": [
              "array([2, 1, 3, ..., 6, 3, 6])"
            ]
          },
          "execution_count": 84,
          "metadata": {},
          "output_type": "execute_result"
        }
      ],
      "source": [
        "# predicting the output in consideration with the cross validation performance of the model\n",
        "\n",
        "from sklearn.model_selection import cross_val_predict\n",
        "y_train_pred=cross_val_predict(sgd_clf1,X_train,y_train,cv=3)\n",
        "y_train_pred"
      ]
    },
    {
      "cell_type": "code",
      "execution_count": 85,
      "metadata": {
        "colab": {
          "base_uri": "https://localhost:8080/"
        },
        "id": "XiefaHZeuoiH",
        "outputId": "31ab6369-e964-4d6b-c97c-ca374481ffb3"
      },
      "outputs": [
        {
          "data": {
            "text/plain": [
              "array([[151,   0,   0,   0,   1,   0,   0,   0,   0,   0],\n",
              "       [  0, 150,   0,   3,   0,   0,   0,   0,   5,   1],\n",
              "       [  0,   1, 150,   1,   0,   0,   0,   0,   0,   0],\n",
              "       [  0,   0,   0, 146,   0,   0,   0,   0,   3,   0],\n",
              "       [  0,   1,   0,   0, 154,   0,   0,   1,   2,   0],\n",
              "       [  0,   2,   1,   3,   1, 149,   1,   0,   2,   3],\n",
              "       [  0,   2,   0,   0,   0,   0, 151,   0,   1,   0],\n",
              "       [  0,   1,   0,   0,   1,   0,   0, 142,   3,   1],\n",
              "       [  0,   8,   1,   2,   0,   0,   0,   0, 132,   0],\n",
              "       [  0,   1,   0,   2,   0,   1,   0,   0,  10, 136]], dtype=int64)"
            ]
          },
          "execution_count": 85,
          "metadata": {},
          "output_type": "execute_result"
        }
      ],
      "source": [
        "# plot the confusion matrix to better evaluate the model performance\n",
        "\n",
        "from sklearn.metrics import confusion_matrix\n",
        "cf=confusion_matrix(y_train,y_train_pred)\n",
        "cf"
      ]
    },
    {
      "cell_type": "code",
      "execution_count": 86,
      "metadata": {
        "colab": {
          "base_uri": "https://localhost:8080/",
          "height": 482
        },
        "id": "dvPEdVLmu156",
        "outputId": "7f5d01d7-4abf-4f3f-f787-6b13f14ddc01"
      },
      "outputs": [
        {
          "data": {
            "text/plain": [
              "Text(51.0, 0.5, 'Actual')"
            ]
          },
          "execution_count": 86,
          "metadata": {},
          "output_type": "execute_result"
        },
        {
          "data": {
            "image/png": "[encoded data removed]",
            "text/plain": [
              "<Figure size 576x360 with 2 Axes>"
            ]
          },
          "metadata": {
            "needs_background": "light"
          },
          "output_type": "display_data"
        }
      ],
      "source": [
        "import seaborn as sns\n",
        "plt.figure(figsize=(8,5))\n",
        "sns.heatmap(cf,annot=True,fmt=',d')\n",
        "plt.xlabel('Predicted')\n",
        "plt.ylabel('Actual')"
      ]
    },
    {
      "cell_type": "code",
      "execution_count": 87,
      "metadata": {},
      "outputs": [
        {
          "name": "stdout",
          "output_type": "stream",
          "text": [
            "              precision    recall  f1-score   support\n",
            "\n",
            "           0       1.00      0.99      1.00       152\n",
            "           1       0.90      0.94      0.92       159\n",
            "           2       0.99      0.99      0.99       152\n",
            "           3       0.93      0.98      0.95       149\n",
            "           4       0.98      0.97      0.98       158\n",
            "           5       0.99      0.92      0.96       162\n",
            "           6       0.99      0.98      0.99       154\n",
            "           7       0.99      0.96      0.98       148\n",
            "           8       0.84      0.92      0.88       143\n",
            "           9       0.96      0.91      0.93       150\n",
            "\n",
            "    accuracy                           0.96      1527\n",
            "   macro avg       0.96      0.96      0.96      1527\n",
            "weighted avg       0.96      0.96      0.96      1527\n",
            "\n"
          ]
        }
      ],
      "source": [
        "from sklearn.metrics import classification_report\n",
        "\n",
        "report = classification_report(y_train,y_train_pred)\n",
        "print(report)"
      ]
    },
    {
      "cell_type": "code",
      "execution_count": 88,
      "metadata": {},
      "outputs": [
        {
          "name": "stdout",
          "output_type": "stream",
          "text": [
            "Model score on test data: 0.94444444\n"
          ]
        }
      ],
      "source": [
        "# now, testing our model on test data\n",
        "\n",
        "model_score = sgd_clf1.score(X_test, y_test)\n",
        "print(f\"Model score on test data: {model_score.round(8)}\")"
      ]
    },
    {
      "cell_type": "code",
      "execution_count": 89,
      "metadata": {},
      "outputs": [],
      "source": [
        "y_test_pred = sgd_clf1.predict(X_test)"
      ]
    },
    {
      "cell_type": "code",
      "execution_count": 90,
      "metadata": {},
      "outputs": [
        {
          "data": {
            "text/plain": [
              "array([[26,  0,  0,  0,  0,  0,  0,  0,  0,  0],\n",
              "       [ 0, 21,  0,  0,  0,  0,  0,  0,  1,  1],\n",
              "       [ 0,  1, 24,  0,  0,  0,  0,  0,  0,  0],\n",
              "       [ 0,  0,  0, 29,  0,  1,  0,  0,  4,  0],\n",
              "       [ 0,  0,  0,  0, 22,  0,  0,  0,  1,  0],\n",
              "       [ 0,  0,  0,  0,  0, 19,  1,  0,  0,  0],\n",
              "       [ 0,  0,  0,  0,  0,  1, 26,  0,  0,  0],\n",
              "       [ 0,  0,  0,  0,  2,  0,  0, 29,  0,  0],\n",
              "       [ 0,  1,  0,  0,  0,  0,  0,  0, 30,  0],\n",
              "       [ 0,  0,  0,  0,  0,  0,  0,  1,  0, 29]], dtype=int64)"
            ]
          },
          "execution_count": 90,
          "metadata": {},
          "output_type": "execute_result"
        }
      ],
      "source": [
        "from sklearn.metrics import confusion_matrix\n",
        "cf=confusion_matrix(y_test,y_test_pred)\n",
        "cf"
      ]
    },
    {
      "cell_type": "code",
      "execution_count": 91,
      "metadata": {},
      "outputs": [
        {
          "data": {
            "text/plain": [
              "Text(51.0, 0.5, 'Actual')"
            ]
          },
          "execution_count": 91,
          "metadata": {},
          "output_type": "execute_result"
        },
        {
          "data": {
            "image/png": "[encoded data removed]",
            "text/plain": [
              "<Figure size 576x360 with 2 Axes>"
            ]
          },
          "metadata": {
            "needs_background": "light"
          },
          "output_type": "display_data"
        }
      ],
      "source": [
        "import seaborn as sns\n",
        "plt.figure(figsize=(8,5))\n",
        "sns.heatmap(cf,annot=True,fmt=',d')\n",
        "plt.xlabel('Predicted')\n",
        "plt.ylabel('Actual')"
      ]
    },
    {
      "cell_type": "code",
      "execution_count": 92,
      "metadata": {},
      "outputs": [
        {
          "name": "stdout",
          "output_type": "stream",
          "text": [
            "              precision    recall  f1-score   support\n",
            "\n",
            "           0       1.00      1.00      1.00        26\n",
            "           1       0.91      0.91      0.91        23\n",
            "           2       1.00      0.96      0.98        25\n",
            "           3       1.00      0.85      0.92        34\n",
            "           4       0.92      0.96      0.94        23\n",
            "           5       0.90      0.95      0.93        20\n",
            "           6       0.96      0.96      0.96        27\n",
            "           7       0.97      0.94      0.95        31\n",
            "           8       0.83      0.97      0.90        31\n",
            "           9       0.97      0.97      0.97        30\n",
            "\n",
            "    accuracy                           0.94       270\n",
            "   macro avg       0.95      0.95      0.95       270\n",
            "weighted avg       0.95      0.94      0.94       270\n",
            "\n"
          ]
        }
      ],
      "source": [
        "from sklearn.metrics import classification_report\n",
        "\n",
        "report = classification_report(y_test,y_test_pred)\n",
        "print(report)"
      ]
    },
    {
      "cell_type": "code",
      "execution_count": 93,
      "metadata": {},
      "outputs": [],
      "source": [
        "# let us try some other models on our dataset\n",
        "\n",
        "from sklearn.linear_model import LogisticRegression\n",
        "from sklearn.linear_model import SGDClassifier\n",
        "from sklearn.svm import SVC\n",
        "from sklearn.tree import DecisionTreeClassifier\n",
        "from sklearn.ensemble import RandomForestClassifier\n",
        "from xgboost import XGBClassifier\n",
        "\n",
        "models = {\n",
        "    \"Logistic Regression\":LogisticRegression(),\n",
        "    \"SGDClassifier\":SGDClassifier(),\n",
        "    \"SVM Classifier\":SVC(),\n",
        "    \"DecisionTree\":DecisionTreeClassifier(),\n",
        "    \"Random Forest\":RandomForestClassifier(),\n",
        "    \"XGBoost Classifier\":XGBClassifier(),\n",
        "}"
      ]
    },
    {
      "cell_type": "code",
      "execution_count": 94,
      "metadata": {},
      "outputs": [],
      "source": [
        "from sklearn.metrics import confusion_matrix, accuracy_score, roc_auc_score\n",
        "\n",
        "def eval_model(y_true, y_pred):\n",
        "    cm = confusion_matrix(y_true, y_pred)\n",
        "\n",
        "    accuracy = accuracy_score(y_true, y_pred)\n",
        "\n",
        "    Classification_report = classification_report(y_true, y_pred)\n",
        "\n",
        "    return cm, accuracy, Classification_report\n"
      ]
    },
    {
      "cell_type": "code",
      "execution_count": 95,
      "metadata": {},
      "outputs": [
        {
          "name": "stdout",
          "output_type": "stream",
          "text": [
            "\n",
            "\n",
            "Logistic Regression\n",
            "Model performance for train set\n",
            "- Confusion Matrix:\n",
            "[[152   0   0   0   0   0   0   0   0   0]\n",
            " [  0 159   0   0   0   0   0   0   0   0]\n",
            " [  0   0 152   0   0   0   0   0   0   0]\n",
            " [  0   0   0 149   0   0   0   0   0   0]\n",
            " [  0   0   0   0 158   0   0   0   0   0]\n",
            " [  0   0   0   0   0 162   0   0   0   0]\n",
            " [  0   0   0   0   0   0 154   0   0   0]\n",
            " [  0   0   0   0   0   0   0 148   0   0]\n",
            " [  0   0   0   0   0   0   0   0 143   0]\n",
            " [  0   0   0   0   0   0   0   0   0 150]]\n",
            "- Accuracy: 1.0\n",
            "- Model Classification Report:               precision    recall  f1-score   support\n",
            "\n",
            "           0       1.00      1.00      1.00       152\n",
            "           1       1.00      1.00      1.00       159\n",
            "           2       1.00      1.00      1.00       152\n",
            "           3       1.00      1.00      1.00       149\n",
            "           4       1.00      1.00      1.00       158\n",
            "           5       1.00      1.00      1.00       162\n",
            "           6       1.00      1.00      1.00       154\n",
            "           7       1.00      1.00      1.00       148\n",
            "           8       1.00      1.00      1.00       143\n",
            "           9       1.00      1.00      1.00       150\n",
            "\n",
            "    accuracy                           1.00      1527\n",
            "   macro avg       1.00      1.00      1.00      1527\n",
            "weighted avg       1.00      1.00      1.00      1527\n",
            "\n",
            "---------------------------------------------\n",
            "\n",
            "\n",
            "SGDClassifier\n",
            "Model performance for train set\n",
            "- Confusion Matrix:\n",
            "[[152   0   0   0   0   0   0   0   0   0]\n",
            " [  0 155   0   1   1   0   0   0   2   0]\n",
            " [  0   0 152   0   0   0   0   0   0   0]\n",
            " [  0   0   0 148   0   0   0   1   0   0]\n",
            " [  0   0   0   0 158   0   0   0   0   0]\n",
            " [  0   0   0   0   0 162   0   0   0   0]\n",
            " [  0   0   0   0   0   0 154   0   0   0]\n",
            " [  0   0   0   0   0   0   0 148   0   0]\n",
            " [  0   4   1   1   0   1   0   0 136   0]\n",
            " [  0   2   0   4   1   6   0   3   2 132]]\n",
            "- Accuracy: 0.9803536345776032\n",
            "- Model Classification Report:               precision    recall  f1-score   support\n",
            "\n",
            "           0       1.00      1.00      1.00       152\n",
            "           1       0.96      0.97      0.97       159\n",
            "           2       0.99      1.00      1.00       152\n",
            "           3       0.96      0.99      0.98       149\n",
            "           4       0.99      1.00      0.99       158\n",
            "           5       0.96      1.00      0.98       162\n",
            "           6       1.00      1.00      1.00       154\n",
            "           7       0.97      1.00      0.99       148\n",
            "           8       0.97      0.95      0.96       143\n",
            "           9       1.00      0.88      0.94       150\n",
            "\n",
            "    accuracy                           0.98      1527\n",
            "   macro avg       0.98      0.98      0.98      1527\n",
            "weighted avg       0.98      0.98      0.98      1527\n",
            "\n",
            "---------------------------------------------\n",
            "\n",
            "\n",
            "SVM Classifier\n",
            "Model performance for train set\n",
            "- Confusion Matrix:\n",
            "[[152   0   0   0   0   0   0   0   0   0]\n",
            " [  0 159   0   0   0   0   0   0   0   0]\n",
            " [  0   0 152   0   0   0   0   0   0   0]\n",
            " [  0   0   0 149   0   0   0   0   0   0]\n",
            " [  0   0   0   0 158   0   0   0   0   0]\n",
            " [  0   0   0   0   0 161   0   0   0   1]\n",
            " [  0   0   0   0   0   0 154   0   0   0]\n",
            " [  0   0   0   0   0   0   0 148   0   0]\n",
            " [  0   3   0   0   0   0   0   0 140   0]\n",
            " [  0   0   0   1   0   0   0   1   0 148]]\n",
            "- Accuracy: 0.9960707269155207\n",
            "- Model Classification Report:               precision    recall  f1-score   support\n",
            "\n",
            "           0       1.00      1.00      1.00       152\n",
            "           1       0.98      1.00      0.99       159\n",
            "           2       1.00      1.00      1.00       152\n",
            "           3       0.99      1.00      1.00       149\n",
            "           4       1.00      1.00      1.00       158\n",
            "           5       1.00      0.99      1.00       162\n",
            "           6       1.00      1.00      1.00       154\n",
            "           7       0.99      1.00      1.00       148\n",
            "           8       1.00      0.98      0.99       143\n",
            "           9       0.99      0.99      0.99       150\n",
            "\n",
            "    accuracy                           1.00      1527\n",
            "   macro avg       1.00      1.00      1.00      1527\n",
            "weighted avg       1.00      1.00      1.00      1527\n",
            "\n",
            "---------------------------------------------\n",
            "\n",
            "\n",
            "DecisionTree\n",
            "Model performance for train set\n",
            "- Confusion Matrix:\n",
            "[[152   0   0   0   0   0   0   0   0   0]\n",
            " [  0 159   0   0   0   0   0   0   0   0]\n",
            " [  0   0 152   0   0   0   0   0   0   0]\n",
            " [  0   0   0 149   0   0   0   0   0   0]\n",
            " [  0   0   0   0 158   0   0   0   0   0]\n",
            " [  0   0   0   0   0 162   0   0   0   0]\n",
            " [  0   0   0   0   0   0 154   0   0   0]\n",
            " [  0   0   0   0   0   0   0 148   0   0]\n",
            " [  0   0   0   0   0   0   0   0 143   0]\n",
            " [  0   0   0   0   0   0   0   0   0 150]]\n",
            "- Accuracy: 1.0\n",
            "- Model Classification Report:               precision    recall  f1-score   support\n",
            "\n",
            "           0       1.00      1.00      1.00       152\n",
            "           1       1.00      1.00      1.00       159\n",
            "           2       1.00      1.00      1.00       152\n",
            "           3       1.00      1.00      1.00       149\n",
            "           4       1.00      1.00      1.00       158\n",
            "           5       1.00      1.00      1.00       162\n",
            "           6       1.00      1.00      1.00       154\n",
            "           7       1.00      1.00      1.00       148\n",
            "           8       1.00      1.00      1.00       143\n",
            "           9       1.00      1.00      1.00       150\n",
            "\n",
            "    accuracy                           1.00      1527\n",
            "   macro avg       1.00      1.00      1.00      1527\n",
            "weighted avg       1.00      1.00      1.00      1527\n",
            "\n",
            "---------------------------------------------\n",
            "\n",
            "\n",
            "Random Forest\n",
            "Model performance for train set\n",
            "- Confusion Matrix:\n",
            "[[152   0   0   0   0   0   0   0   0   0]\n",
            " [  0 159   0   0   0   0   0   0   0   0]\n",
            " [  0   0 152   0   0   0   0   0   0   0]\n",
            " [  0   0   0 149   0   0   0   0   0   0]\n",
            " [  0   0   0   0 158   0   0   0   0   0]\n",
            " [  0   0   0   0   0 162   0   0   0   0]\n",
            " [  0   0   0   0   0   0 154   0   0   0]\n",
            " [  0   0   0   0   0   0   0 148   0   0]\n",
            " [  0   0   0   0   0   0   0   0 143   0]\n",
            " [  0   0   0   0   0   0   0   0   0 150]]\n",
            "- Accuracy: 1.0\n",
            "- Model Classification Report:               precision    recall  f1-score   support\n",
            "\n",
            "           0       1.00      1.00      1.00       152\n",
            "           1       1.00      1.00      1.00       159\n",
            "           2       1.00      1.00      1.00       152\n",
            "           3       1.00      1.00      1.00       149\n",
            "           4       1.00      1.00      1.00       158\n",
            "           5       1.00      1.00      1.00       162\n",
            "           6       1.00      1.00      1.00       154\n",
            "           7       1.00      1.00      1.00       148\n",
            "           8       1.00      1.00      1.00       143\n",
            "           9       1.00      1.00      1.00       150\n",
            "\n",
            "    accuracy                           1.00      1527\n",
            "   macro avg       1.00      1.00      1.00      1527\n",
            "weighted avg       1.00      1.00      1.00      1527\n",
            "\n",
            "---------------------------------------------\n",
            "\n",
            "\n",
            "XGBoost Classifier\n",
            "Model performance for train set\n",
            "- Confusion Matrix:\n",
            "[[152   0   0   0   0   0   0   0   0   0]\n",
            " [  0 159   0   0   0   0   0   0   0   0]\n",
            " [  0   0 152   0   0   0   0   0   0   0]\n",
            " [  0   0   0 149   0   0   0   0   0   0]\n",
            " [  0   0   0   0 158   0   0   0   0   0]\n",
            " [  0   0   0   0   0 162   0   0   0   0]\n",
            " [  0   0   0   0   0   0 154   0   0   0]\n",
            " [  0   0   0   0   0   0   0 148   0   0]\n",
            " [  0   0   0   0   0   0   0   0 143   0]\n",
            " [  0   0   0   0   0   0   0   0   0 150]]\n",
            "- Accuracy: 1.0\n",
            "- Model Classification Report:               precision    recall  f1-score   support\n",
            "\n",
            "           0       1.00      1.00      1.00       152\n",
            "           1       1.00      1.00      1.00       159\n",
            "           2       1.00      1.00      1.00       152\n",
            "           3       1.00      1.00      1.00       149\n",
            "           4       1.00      1.00      1.00       158\n",
            "           5       1.00      1.00      1.00       162\n",
            "           6       1.00      1.00      1.00       154\n",
            "           7       1.00      1.00      1.00       148\n",
            "           8       1.00      1.00      1.00       143\n",
            "           9       1.00      1.00      1.00       150\n",
            "\n",
            "    accuracy                           1.00      1527\n",
            "   macro avg       1.00      1.00      1.00      1527\n",
            "weighted avg       1.00      1.00      1.00      1527\n",
            "\n",
            "---------------------------------------------\n"
          ]
        }
      ],
      "source": [
        "model_list = []\n",
        "accuracy_list = []\n",
        "\n",
        "for i in range(len(list(models))):\n",
        "    # model training\n",
        "    model = list(models.values())[i] # list(models.values()) is a list having instances of the models\n",
        "    model.fit(X_train, y_train)\n",
        "\n",
        "    # model testing\n",
        "    y_pred_train = model.predict(X_train)\n",
        "\n",
        "    # model performance\n",
        "    model_cm, model_accuracy, model_classification_report = eval_model(y_train, y_pred_train)\n",
        "\n",
        "    # printing the results\n",
        "    print(\"\\n\")\n",
        "    print(list(models.keys())[i])\n",
        "    model_list.append(list(models.keys())[i])\n",
        "\n",
        "    print(\"Model performance for train set\")\n",
        "    print(f\"- Confusion Matrix:\\n{model_cm}\")\n",
        "    print(f\"- Accuracy: {model_accuracy}\")\n",
        "    print(f\"- Model Classification Report: {model_classification_report}\")\n",
        "\n",
        "    print(\"---------------------------------------------\")\n",
        "\n",
        "    accuracy_list.append(model_accuracy)\n"
      ]
    },
    {
      "cell_type": "code",
      "execution_count": 102,
      "metadata": {},
      "outputs": [],
      "source": [
        "train_result = pd.DataFrame(list(zip(model_list, accuracy_list)), columns=['Model Name', 'Accuracy']).sort_values(by=[\"Accuracy\"],ascending=False)"
      ]
    },
    {
      "cell_type": "code",
      "execution_count": 103,
      "metadata": {},
      "outputs": [
        {
          "data": {
            "text/html": [
              "<div>\n",
              "<style scoped>\n",
              "    .dataframe tbody tr th:only-of-type {\n",
              "        vertical-align: middle;\n",
              "    }\n",
              "\n",
              "    .dataframe tbody tr th {\n",
              "        vertical-align: top;\n",
              "    }\n",
              "\n",
              "    .dataframe thead th {\n",
              "        text-align: right;\n",
              "    }\n",
              "</style>\n",
              "<table border=\"1\" class=\"dataframe\">\n",
              "  <thead>\n",
              "    <tr style=\"text-align: right;\">\n",
              "      <th></th>\n",
              "      <th>Model Name</th>\n",
              "      <th>Accuracy</th>\n",
              "    </tr>\n",
              "  </thead>\n",
              "  <tbody>\n",
              "    <tr>\n",
              "      <th>0</th>\n",
              "      <td>Logistic Regression</td>\n",
              "      <td>1.000000</td>\n",
              "    </tr>\n",
              "    <tr>\n",
              "      <th>3</th>\n",
              "      <td>DecisionTree</td>\n",
              "      <td>1.000000</td>\n",
              "    </tr>\n",
              "    <tr>\n",
              "      <th>4</th>\n",
              "      <td>Random Forest</td>\n",
              "      <td>1.000000</td>\n",
              "    </tr>\n",
              "    <tr>\n",
              "      <th>5</th>\n",
              "      <td>XGBoost Classifier</td>\n",
              "      <td>1.000000</td>\n",
              "    </tr>\n",
              "    <tr>\n",
              "      <th>2</th>\n",
              "      <td>SVM Classifier</td>\n",
              "      <td>0.996071</td>\n",
              "    </tr>\n",
              "    <tr>\n",
              "      <th>1</th>\n",
              "      <td>SGDClassifier</td>\n",
              "      <td>0.980354</td>\n",
              "    </tr>\n",
              "  </tbody>\n",
              "</table>\n",
              "</div>"
            ],
            "text/plain": [
              "            Model Name  Accuracy\n",
              "0  Logistic Regression  1.000000\n",
              "3         DecisionTree  1.000000\n",
              "4        Random Forest  1.000000\n",
              "5   XGBoost Classifier  1.000000\n",
              "2       SVM Classifier  0.996071\n",
              "1        SGDClassifier  0.980354"
            ]
          },
          "execution_count": 103,
          "metadata": {},
          "output_type": "execute_result"
        }
      ],
      "source": [
        "train_result"
      ]
    },
    {
      "cell_type": "code",
      "execution_count": 99,
      "metadata": {},
      "outputs": [
        {
          "name": "stdout",
          "output_type": "stream",
          "text": [
            "\n",
            "\n",
            "Logistic Regression\n",
            "Model performance for train set\n",
            "- Confusion Matrix:\n",
            "[[24  0  0  0  0  0  2  0  0  0]\n",
            " [ 0 22  0  0  0  0  0  0  1  0]\n",
            " [ 0  0 25  0  0  0  0  0  0  0]\n",
            " [ 0  0  1 31  0  1  0  1  0  0]\n",
            " [ 0  1  0  0 22  0  0  0  0  0]\n",
            " [ 0  0  0  0  0 19  1  0  0  0]\n",
            " [ 0  0  0  0  0  1 26  0  0  0]\n",
            " [ 0  0  0  0  1  0  0 30  0  0]\n",
            " [ 0  3  0  0  0  0  0  0 28  0]\n",
            " [ 0  0  0  0  0  1  0  0  0 29]]\n",
            "- Accuracy: 0.9481481481481482\n",
            "- Model Classification Report:               precision    recall  f1-score   support\n",
            "\n",
            "           0       1.00      0.92      0.96        26\n",
            "           1       0.85      0.96      0.90        23\n",
            "           2       0.96      1.00      0.98        25\n",
            "           3       1.00      0.91      0.95        34\n",
            "           4       0.96      0.96      0.96        23\n",
            "           5       0.86      0.95      0.90        20\n",
            "           6       0.90      0.96      0.93        27\n",
            "           7       0.97      0.97      0.97        31\n",
            "           8       0.97      0.90      0.93        31\n",
            "           9       1.00      0.97      0.98        30\n",
            "\n",
            "    accuracy                           0.95       270\n",
            "   macro avg       0.95      0.95      0.95       270\n",
            "weighted avg       0.95      0.95      0.95       270\n",
            "\n",
            "---------------------------------------------\n",
            "\n",
            "\n",
            "SGDClassifier\n",
            "Model performance for train set\n",
            "- Confusion Matrix:\n",
            "[[26  0  0  0  0  0  0  0  0  0]\n",
            " [ 0 21  0  0  0  1  0  0  1  0]\n",
            " [ 0  0 25  0  0  0  0  0  0  0]\n",
            " [ 0  0  1 31  0  1  0  1  0  0]\n",
            " [ 0  0  0  0 23  0  0  0  0  0]\n",
            " [ 0  0  0  0  0 19  1  0  0  0]\n",
            " [ 0  0  0  0  0  1 26  0  0  0]\n",
            " [ 0  0  0  0  2  0  0 29  0  0]\n",
            " [ 0  1  0  0  0  0  1  0 29  0]\n",
            " [ 0  0  0  4  0  1  0  1  0 24]]\n",
            "- Accuracy: 0.937037037037037\n",
            "- Model Classification Report:               precision    recall  f1-score   support\n",
            "\n",
            "           0       1.00      1.00      1.00        26\n",
            "           1       0.95      0.91      0.93        23\n",
            "           2       0.96      1.00      0.98        25\n",
            "           3       0.89      0.91      0.90        34\n",
            "           4       0.92      1.00      0.96        23\n",
            "           5       0.83      0.95      0.88        20\n",
            "           6       0.93      0.96      0.95        27\n",
            "           7       0.94      0.94      0.94        31\n",
            "           8       0.97      0.94      0.95        31\n",
            "           9       1.00      0.80      0.89        30\n",
            "\n",
            "    accuracy                           0.94       270\n",
            "   macro avg       0.94      0.94      0.94       270\n",
            "weighted avg       0.94      0.94      0.94       270\n",
            "\n",
            "---------------------------------------------\n",
            "\n",
            "\n",
            "SVM Classifier\n",
            "Model performance for train set\n",
            "- Confusion Matrix:\n",
            "[[26  0  0  0  0  0  0  0  0  0]\n",
            " [ 0 23  0  0  0  0  0  0  0  0]\n",
            " [ 0  0 25  0  0  0  0  0  0  0]\n",
            " [ 0  0  0 33  0  0  0  0  1  0]\n",
            " [ 0  0  0  0 23  0  0  0  0  0]\n",
            " [ 0  0  0  0  0 19  1  0  0  0]\n",
            " [ 0  0  0  0  0  0 27  0  0  0]\n",
            " [ 0  0  0  0  0  0  0 31  0  0]\n",
            " [ 0  1  0  0  0  0  0  0 30  0]\n",
            " [ 0  0  0  0  0  1  0  0  0 29]]\n",
            "- Accuracy: 0.9851851851851852\n",
            "- Model Classification Report:               precision    recall  f1-score   support\n",
            "\n",
            "           0       1.00      1.00      1.00        26\n",
            "           1       0.96      1.00      0.98        23\n",
            "           2       1.00      1.00      1.00        25\n",
            "           3       1.00      0.97      0.99        34\n",
            "           4       1.00      1.00      1.00        23\n",
            "           5       0.95      0.95      0.95        20\n",
            "           6       0.96      1.00      0.98        27\n",
            "           7       1.00      1.00      1.00        31\n",
            "           8       0.97      0.97      0.97        31\n",
            "           9       1.00      0.97      0.98        30\n",
            "\n",
            "    accuracy                           0.99       270\n",
            "   macro avg       0.98      0.99      0.98       270\n",
            "weighted avg       0.99      0.99      0.99       270\n",
            "\n",
            "---------------------------------------------\n",
            "\n",
            "\n",
            "DecisionTree\n",
            "Model performance for train set\n",
            "- Confusion Matrix:\n",
            "[[26  0  0  0  0  0  0  0  0  0]\n",
            " [ 0 20  0  0  0  0  0  1  1  1]\n",
            " [ 0  1 18  1  0  0  0  2  2  1]\n",
            " [ 0  0  1 27  0  1  0  1  3  1]\n",
            " [ 0  1  0  0 19  2  0  1  0  0]\n",
            " [ 0  0  0  0  0 19  1  0  0  0]\n",
            " [ 0  1  0  0  1  0 24  1  0  0]\n",
            " [ 0  0  0  0  1  0  0 29  1  0]\n",
            " [ 0  2  2  2  0  0  0  2 22  1]\n",
            " [ 2  0  0  1  2  0  0  0  1 24]]\n",
            "- Accuracy: 0.8444444444444444\n",
            "- Model Classification Report:               precision    recall  f1-score   support\n",
            "\n",
            "           0       0.93      1.00      0.96        26\n",
            "           1       0.80      0.87      0.83        23\n",
            "           2       0.86      0.72      0.78        25\n",
            "           3       0.87      0.79      0.83        34\n",
            "           4       0.83      0.83      0.83        23\n",
            "           5       0.86      0.95      0.90        20\n",
            "           6       0.96      0.89      0.92        27\n",
            "           7       0.78      0.94      0.85        31\n",
            "           8       0.73      0.71      0.72        31\n",
            "           9       0.86      0.80      0.83        30\n",
            "\n",
            "    accuracy                           0.84       270\n",
            "   macro avg       0.85      0.85      0.85       270\n",
            "weighted avg       0.85      0.84      0.84       270\n",
            "\n",
            "---------------------------------------------\n",
            "\n",
            "\n",
            "Random Forest\n",
            "Model performance for train set\n",
            "- Confusion Matrix:\n",
            "[[26  0  0  0  0  0  0  0  0  0]\n",
            " [ 0 22  0  0  0  1  0  0  0  0]\n",
            " [ 0  0 25  0  0  0  0  0  0  0]\n",
            " [ 0  0  0 33  0  0  0  0  1  0]\n",
            " [ 0  0  0  0 23  0  0  0  0  0]\n",
            " [ 0  0  0  0  0 19  1  0  0  0]\n",
            " [ 0  0  0  0  0  1 26  0  0  0]\n",
            " [ 0  0  0  0  0  0  0 31  0  0]\n",
            " [ 0  2  1  0  0  0  0  0 28  0]\n",
            " [ 0  0  0  0  0  1  0  0  1 28]]\n",
            "- Accuracy: 0.9666666666666667\n",
            "- Model Classification Report:               precision    recall  f1-score   support\n",
            "\n",
            "           0       1.00      1.00      1.00        26\n",
            "           1       0.92      0.96      0.94        23\n",
            "           2       0.96      1.00      0.98        25\n",
            "           3       1.00      0.97      0.99        34\n",
            "           4       1.00      1.00      1.00        23\n",
            "           5       0.86      0.95      0.90        20\n",
            "           6       0.96      0.96      0.96        27\n",
            "           7       1.00      1.00      1.00        31\n",
            "           8       0.93      0.90      0.92        31\n",
            "           9       1.00      0.93      0.97        30\n",
            "\n",
            "    accuracy                           0.97       270\n",
            "   macro avg       0.96      0.97      0.97       270\n",
            "weighted avg       0.97      0.97      0.97       270\n",
            "\n",
            "---------------------------------------------\n",
            "\n",
            "\n",
            "XGBoost Classifier\n",
            "Model performance for train set\n",
            "- Confusion Matrix:\n",
            "[[26  0  0  0  0  0  0  0  0  0]\n",
            " [ 0 22  0  0  1  0  0  0  0  0]\n",
            " [ 0  0 25  0  0  0  0  0  0  0]\n",
            " [ 0  0  1 33  0  0  0  0  0  0]\n",
            " [ 0  0  0  0 23  0  0  0  0  0]\n",
            " [ 0  0  0  0  0 19  1  0  0  0]\n",
            " [ 0  0  0  0  0  1 26  0  0  0]\n",
            " [ 0  0  0  0  0  0  0 31  0  0]\n",
            " [ 0  2  0  0  0  0  0  0 29  0]\n",
            " [ 1  0  0  0  0  1  0  0  1 27]]\n",
            "- Accuracy: 0.9666666666666667\n",
            "- Model Classification Report:               precision    recall  f1-score   support\n",
            "\n",
            "           0       0.96      1.00      0.98        26\n",
            "           1       0.92      0.96      0.94        23\n",
            "           2       0.96      1.00      0.98        25\n",
            "           3       1.00      0.97      0.99        34\n",
            "           4       0.96      1.00      0.98        23\n",
            "           5       0.90      0.95      0.93        20\n",
            "           6       0.96      0.96      0.96        27\n",
            "           7       1.00      1.00      1.00        31\n",
            "           8       0.97      0.94      0.95        31\n",
            "           9       1.00      0.90      0.95        30\n",
            "\n",
            "    accuracy                           0.97       270\n",
            "   macro avg       0.96      0.97      0.96       270\n",
            "weighted avg       0.97      0.97      0.97       270\n",
            "\n",
            "---------------------------------------------\n"
          ]
        }
      ],
      "source": [
        "# check performance on test set\n",
        "\n",
        "test_model_list = []\n",
        "test_accuracy_list = []\n",
        "\n",
        "for i in range(len(list(models))):\n",
        "\n",
        "    model = list(models.values())[i]\n",
        "    # model testing\n",
        "    y_pred_test = model.predict(X_test)\n",
        "\n",
        "    # model performance\n",
        "    test_model_cm, test_model_accuracy, test_model_classification_report = eval_model(y_test, y_pred_test)\n",
        "\n",
        "    # printing the results\n",
        "    print(\"\\n\")\n",
        "    print(list(models.keys())[i])\n",
        "    test_model_list.append(list(models.keys())[i])\n",
        "\n",
        "    print(\"Model performance for train set\")\n",
        "    print(f\"- Confusion Matrix:\\n{test_model_cm}\")\n",
        "    print(f\"- Accuracy: {test_model_accuracy}\")\n",
        "    print(f\"- Model Classification Report: {test_model_classification_report}\")\n",
        "\n",
        "    print(\"---------------------------------------------\")\n",
        "\n",
        "    test_accuracy_list.append(test_model_accuracy)\n"
      ]
    },
    {
      "cell_type": "code",
      "execution_count": 100,
      "metadata": {},
      "outputs": [],
      "source": [
        "test_result = pd.DataFrame(list(zip(test_model_list, test_accuracy_list)), columns=['Model Name', 'Accuracy']).sort_values(by=[\"Accuracy\"],ascending=False)"
      ]
    },
    {
      "cell_type": "code",
      "execution_count": 105,
      "metadata": {},
      "outputs": [
        {
          "data": {
            "text/html": [
              "<div>\n",
              "<style scoped>\n",
              "    .dataframe tbody tr th:only-of-type {\n",
              "        vertical-align: middle;\n",
              "    }\n",
              "\n",
              "    .dataframe tbody tr th {\n",
              "        vertical-align: top;\n",
              "    }\n",
              "\n",
              "    .dataframe thead th {\n",
              "        text-align: right;\n",
              "    }\n",
              "</style>\n",
              "<table border=\"1\" class=\"dataframe\">\n",
              "  <thead>\n",
              "    <tr style=\"text-align: right;\">\n",
              "      <th></th>\n",
              "      <th>Model Name</th>\n",
              "      <th>Accuracy</th>\n",
              "    </tr>\n",
              "  </thead>\n",
              "  <tbody>\n",
              "    <tr>\n",
              "      <th>0</th>\n",
              "      <td>Logistic Regression</td>\n",
              "      <td>1.000000</td>\n",
              "    </tr>\n",
              "    <tr>\n",
              "      <th>3</th>\n",
              "      <td>DecisionTree</td>\n",
              "      <td>1.000000</td>\n",
              "    </tr>\n",
              "    <tr>\n",
              "      <th>4</th>\n",
              "      <td>Random Forest</td>\n",
              "      <td>1.000000</td>\n",
              "    </tr>\n",
              "    <tr>\n",
              "      <th>5</th>\n",
              "      <td>XGBoost Classifier</td>\n",
              "      <td>1.000000</td>\n",
              "    </tr>\n",
              "    <tr>\n",
              "      <th>2</th>\n",
              "      <td>SVM Classifier</td>\n",
              "      <td>0.996071</td>\n",
              "    </tr>\n",
              "    <tr>\n",
              "      <th>1</th>\n",
              "      <td>SGDClassifier</td>\n",
              "      <td>0.980354</td>\n",
              "    </tr>\n",
              "  </tbody>\n",
              "</table>\n",
              "</div>"
            ],
            "text/plain": [
              "            Model Name  Accuracy\n",
              "0  Logistic Regression  1.000000\n",
              "3         DecisionTree  1.000000\n",
              "4        Random Forest  1.000000\n",
              "5   XGBoost Classifier  1.000000\n",
              "2       SVM Classifier  0.996071\n",
              "1        SGDClassifier  0.980354"
            ]
          },
          "execution_count": 105,
          "metadata": {},
          "output_type": "execute_result"
        }
      ],
      "source": [
        "train_result"
      ]
    },
    {
      "cell_type": "code",
      "execution_count": 106,
      "metadata": {},
      "outputs": [
        {
          "data": {
            "text/html": [
              "<div>\n",
              "<style scoped>\n",
              "    .dataframe tbody tr th:only-of-type {\n",
              "        vertical-align: middle;\n",
              "    }\n",
              "\n",
              "    .dataframe tbody tr th {\n",
              "        vertical-align: top;\n",
              "    }\n",
              "\n",
              "    .dataframe thead th {\n",
              "        text-align: right;\n",
              "    }\n",
              "</style>\n",
              "<table border=\"1\" class=\"dataframe\">\n",
              "  <thead>\n",
              "    <tr style=\"text-align: right;\">\n",
              "      <th></th>\n",
              "      <th>Model Name</th>\n",
              "      <th>Accuracy</th>\n",
              "    </tr>\n",
              "  </thead>\n",
              "  <tbody>\n",
              "    <tr>\n",
              "      <th>2</th>\n",
              "      <td>SVM Classifier</td>\n",
              "      <td>0.985185</td>\n",
              "    </tr>\n",
              "    <tr>\n",
              "      <th>4</th>\n",
              "      <td>Random Forest</td>\n",
              "      <td>0.966667</td>\n",
              "    </tr>\n",
              "    <tr>\n",
              "      <th>5</th>\n",
              "      <td>XGBoost Classifier</td>\n",
              "      <td>0.966667</td>\n",
              "    </tr>\n",
              "    <tr>\n",
              "      <th>0</th>\n",
              "      <td>Logistic Regression</td>\n",
              "      <td>0.948148</td>\n",
              "    </tr>\n",
              "    <tr>\n",
              "      <th>1</th>\n",
              "      <td>SGDClassifier</td>\n",
              "      <td>0.937037</td>\n",
              "    </tr>\n",
              "    <tr>\n",
              "      <th>3</th>\n",
              "      <td>DecisionTree</td>\n",
              "      <td>0.844444</td>\n",
              "    </tr>\n",
              "  </tbody>\n",
              "</table>\n",
              "</div>"
            ],
            "text/plain": [
              "            Model Name  Accuracy\n",
              "2       SVM Classifier  0.985185\n",
              "4        Random Forest  0.966667\n",
              "5   XGBoost Classifier  0.966667\n",
              "0  Logistic Regression  0.948148\n",
              "1        SGDClassifier  0.937037\n",
              "3         DecisionTree  0.844444"
            ]
          },
          "execution_count": 106,
          "metadata": {},
          "output_type": "execute_result"
        }
      ],
      "source": [
        "test_result"
      ]
    },
    {
      "cell_type": "code",
      "execution_count": 107,
      "metadata": {},
      "outputs": [],
      "source": [
        "# we got decreased performance for some of the models, this can be due to overfitting to the train data"
      ]
    },
    {
      "cell_type": "code",
      "execution_count": 108,
      "metadata": {},
      "outputs": [],
      "source": [
        "# we can boost the performance of the model(s) by hyperparameter tuning"
      ]
    },
    {
      "cell_type": "code",
      "execution_count": 112,
      "metadata": {},
      "outputs": [],
      "source": [
        "# takes long time to run because GridSearchCV finds the best hyperparameters by manually training the data wrt to each combination of provided hyperparameters\n",
        "# further tweaking of the hyperparameters can result in even better results\n",
        "\n",
        "from sklearn.model_selection import GridSearchCV\n",
        "from sklearn.model_selection import StratifiedShuffleSplit\n",
        "\n",
        "def find_best_hyper_params_using_gridsearchcv(X,y):\n",
        "    algos = { # a python dictionary\n",
        "        \"Logistic Regression\" : {\n",
        "            \"model\": LogisticRegression(),\n",
        "            \"params\": { # hyper parameter tuning\n",
        "                \"penalty\": [\"l1\", \"l2\", \"elasticnet\"],\n",
        "                \"C\": [0.0001, 0.001, 0.01, 0.1], # inverse of regularisation term\n",
        "                \"max_iter\": [1000, 5000, 10000, 20000]\n",
        "            }\n",
        "        },\n",
        "        \"SGDClassifier\" : {\n",
        "            \"model\": SGDClassifier(),\n",
        "            \"params\": {\n",
        "                \"loss\":[\"hinge\", \"log_loss\"],\n",
        "                \"penalty\": [\"l1\", \"l2\", \"elasticnet\"],\n",
        "                \"alpha\": [0.0001, 0.001, 0.01, 0.1],\n",
        "                \"learning_rate\": ['constant', 'invscaling', 'adaptive', 'optimal'],\n",
        "                \"max_iter\": [1000, 5000, 10000, 20000]\n",
        "            }\n",
        "        },\n",
        "        \"SVM Classifier\" : {\n",
        "            \"model\": SVC(),\n",
        "            \"params\": {\n",
        "                \"kernel\":[\"linear\", \"poly\", \"rbf\", \"sigmoid\"],\n",
        "                \"gamma\": [\"scale\", \"auto\"],\n",
        "                \"C\": [0.0001, 0.001, 0.01, 0.1],\n",
        "                \"max_iter\": [1000, 5000, 10000, 20000]\n",
        "            }\n",
        "        },\n",
        "        \"Decision Tree Classifier\" : {\n",
        "            \"model\": DecisionTreeClassifier(),\n",
        "            \"params\": {\n",
        "                \"criterion\":[\"gini\", \"log_loss\", \"entropy\"],\n",
        "                \"max_depth\": [4,8,16,32],\n",
        "                \"splitter\":[\"best\",\"random\"],\n",
        "                'max_features':['sqrt','log2'],\n",
        "            }\n",
        "        },\n",
        "        \"Random Forest Classifier\" : {\n",
        "            \"model\": RandomForestClassifier(),\n",
        "            \"params\": {\n",
        "                \"criterion\":[\"gini\", \"log_loss\", \"entropy\"],\n",
        "                \"max_depth\": [4,8,16,32],\n",
        "                'max_features':['sqrt','log2'],\n",
        "                'n_estimators': [8,16,32,64,128,256]\n",
        "            }\n",
        "        },\n",
        "        \"XGBoost Classifier\" : {\n",
        "            \"model\": XGBClassifier(),\n",
        "            \"params\": {\n",
        "                'learning_rate':[.1,.01,.05,.001],\n",
        "                'subsample':[0.75,0.8,0.85,0.9],\n",
        "                'n_estimators': [8,16,32,64,128,256]\n",
        "            }\n",
        "        },\n",
        "    }\n",
        "    mod_scores = []\n",
        "    cv = StratifiedShuffleSplit(n_splits=5, test_size=0.15, random_state=42)\n",
        "    for algo_name, config in algos.items():\n",
        "        gs =  GridSearchCV(config[\"model\"], config[\"params\"], cv=cv, return_train_score=False)\n",
        "        gs.fit(X,y)\n",
        "        mod_scores.append({\n",
        "            \"model\": algo_name,\n",
        "            \"best_score\": gs.best_score_,\n",
        "            \"best_params\": gs.best_params_\n",
        "        })\n",
        "\n",
        "    return pd.DataFrame(mod_scores,columns=[\"model\",\"best_score\",\"best_params\"])\n",
        "\n",
        "performance = find_best_hyper_params_using_gridsearchcv(X_train, y_train)"
      ]
    },
    {
      "cell_type": "code",
      "execution_count": 113,
      "metadata": {},
      "outputs": [
        {
          "data": {
            "text/html": [
              "<div>\n",
              "<style scoped>\n",
              "    .dataframe tbody tr th:only-of-type {\n",
              "        vertical-align: middle;\n",
              "    }\n",
              "\n",
              "    .dataframe tbody tr th {\n",
              "        vertical-align: top;\n",
              "    }\n",
              "\n",
              "    .dataframe thead th {\n",
              "        text-align: right;\n",
              "    }\n",
              "</style>\n",
              "<table border=\"1\" class=\"dataframe\">\n",
              "  <thead>\n",
              "    <tr style=\"text-align: right;\">\n",
              "      <th></th>\n",
              "      <th>model</th>\n",
              "      <th>best_score</th>\n",
              "      <th>best_params</th>\n",
              "    </tr>\n",
              "  </thead>\n",
              "  <tbody>\n",
              "    <tr>\n",
              "      <th>0</th>\n",
              "      <td>Logistic Regression</td>\n",
              "      <td>0.976522</td>\n",
              "      <td>{'C': 0.1, 'max_iter': 1000, 'penalty': 'l2'}</td>\n",
              "    </tr>\n",
              "    <tr>\n",
              "      <th>1</th>\n",
              "      <td>SGDClassifier</td>\n",
              "      <td>0.968696</td>\n",
              "      <td>{'alpha': 0.0001, 'learning_rate': 'optimal', ...</td>\n",
              "    </tr>\n",
              "    <tr>\n",
              "      <th>2</th>\n",
              "      <td>SVM Classifier</td>\n",
              "      <td>0.991304</td>\n",
              "      <td>{'C': 0.0001, 'gamma': 'auto', 'kernel': 'poly...</td>\n",
              "    </tr>\n",
              "    <tr>\n",
              "      <th>3</th>\n",
              "      <td>Decision Tree Classifier</td>\n",
              "      <td>0.815652</td>\n",
              "      <td>{'criterion': 'entropy', 'max_depth': 32, 'max...</td>\n",
              "    </tr>\n",
              "    <tr>\n",
              "      <th>4</th>\n",
              "      <td>Random Forest Classifier</td>\n",
              "      <td>0.979130</td>\n",
              "      <td>{'criterion': 'gini', 'max_depth': 16, 'max_fe...</td>\n",
              "    </tr>\n",
              "    <tr>\n",
              "      <th>5</th>\n",
              "      <td>XGBoost Classifier</td>\n",
              "      <td>0.966957</td>\n",
              "      <td>{'learning_rate': 0.05, 'n_estimators': 256, '...</td>\n",
              "    </tr>\n",
              "  </tbody>\n",
              "</table>\n",
              "</div>"
            ],
            "text/plain": [
              "                      model  best_score  \\\n",
              "0       Logistic Regression    0.976522   \n",
              "1             SGDClassifier    0.968696   \n",
              "2            SVM Classifier    0.991304   \n",
              "3  Decision Tree Classifier    0.815652   \n",
              "4  Random Forest Classifier    0.979130   \n",
              "5        XGBoost Classifier    0.966957   \n",
              "\n",
              "                                         best_params  \n",
              "0      {'C': 0.1, 'max_iter': 1000, 'penalty': 'l2'}  \n",
              "1  {'alpha': 0.0001, 'learning_rate': 'optimal', ...  \n",
              "2  {'C': 0.0001, 'gamma': 'auto', 'kernel': 'poly...  \n",
              "3  {'criterion': 'entropy', 'max_depth': 32, 'max...  \n",
              "4  {'criterion': 'gini', 'max_depth': 16, 'max_fe...  \n",
              "5  {'learning_rate': 0.05, 'n_estimators': 256, '...  "
            ]
          },
          "execution_count": 113,
          "metadata": {},
          "output_type": "execute_result"
        }
      ],
      "source": [
        "performance"
      ]
    },
    {
      "cell_type": "code",
      "execution_count": 116,
      "metadata": {},
      "outputs": [],
      "source": [
        "best_hp = performance[\"best_params\"][2]"
      ]
    },
    {
      "cell_type": "code",
      "execution_count": 118,
      "metadata": {},
      "outputs": [
        {
          "name": "stdout",
          "output_type": "stream",
          "text": [
            "{'C': 0.0001, 'gamma': 'auto', 'kernel': 'poly', 'max_iter': 1000}\n"
          ]
        }
      ],
      "source": [
        "print((best_hp))"
      ]
    },
    {
      "cell_type": "code",
      "execution_count": 119,
      "metadata": {},
      "outputs": [
        {
          "data": {
            "text/html": [
              "<style>#sk-container-id-5 {color: black;background-color: white;}#sk-container-id-5 pre{padding: 0;}#sk-container-id-5 div.sk-toggleable {background-color: white;}#sk-container-id-5 label.sk-toggleable__label {cursor: pointer;display: block;width: 100%;margin-bottom: 0;padding: 0.3em;box-sizing: border-box;text-align: center;}#sk-container-id-5 label.sk-toggleable__label-arrow:before {content: \"▸\";float: left;margin-right: 0.25em;color: #696969;}#sk-container-id-5 label.sk-toggleable__label-arrow:hover:before {color: black;}#sk-container-id-5 div.sk-estimator:hover label.sk-toggleable__label-arrow:before {color: black;}#sk-container-id-5 div.sk-toggleable__content {max-height: 0;max-width: 0;overflow: hidden;text-align: left;background-color: #f0f8ff;}#sk-container-id-5 div.sk-toggleable__content pre {margin: 0.2em;color: black;border-radius: 0.25em;background-color: #f0f8ff;}#sk-container-id-5 input.sk-toggleable__control:checked~div.sk-toggleable__content {max-height: 200px;max-width: 100%;overflow: auto;}#sk-container-id-5 input.sk-toggleable__control:checked~label.sk-toggleable__label-arrow:before {content: \"▾\";}#sk-container-id-5 div.sk-estimator input.sk-toggleable__control:checked~label.sk-toggleable__label {background-color: #d4ebff;}#sk-container-id-5 div.sk-label input.sk-toggleable__control:checked~label.sk-toggleable__label {background-color: #d4ebff;}#sk-container-id-5 input.sk-hidden--visually {border: 0;clip: rect(1px 1px 1px 1px);clip: rect(1px, 1px, 1px, 1px);height: 1px;margin: -1px;overflow: hidden;padding: 0;position: absolute;width: 1px;}#sk-container-id-5 div.sk-estimator {font-family: monospace;background-color: #f0f8ff;border: 1px dotted black;border-radius: 0.25em;box-sizing: border-box;margin-bottom: 0.5em;}#sk-container-id-5 div.sk-estimator:hover {background-color: #d4ebff;}#sk-container-id-5 div.sk-parallel-item::after {content: \"\";width: 100%;border-bottom: 1px solid gray;flex-grow: 1;}#sk-container-id-5 div.sk-label:hover label.sk-toggleable__label {background-color: #d4ebff;}#sk-container-id-5 div.sk-serial::before {content: \"\";position: absolute;border-left: 1px solid gray;box-sizing: border-box;top: 0;bottom: 0;left: 50%;z-index: 0;}#sk-container-id-5 div.sk-serial {display: flex;flex-direction: column;align-items: center;background-color: white;padding-right: 0.2em;padding-left: 0.2em;position: relative;}#sk-container-id-5 div.sk-item {position: relative;z-index: 1;}#sk-container-id-5 div.sk-parallel {display: flex;align-items: stretch;justify-content: center;background-color: white;position: relative;}#sk-container-id-5 div.sk-item::before, #sk-container-id-5 div.sk-parallel-item::before {content: \"\";position: absolute;border-left: 1px solid gray;box-sizing: border-box;top: 0;bottom: 0;left: 50%;z-index: -1;}#sk-container-id-5 div.sk-parallel-item {display: flex;flex-direction: column;z-index: 1;position: relative;background-color: white;}#sk-container-id-5 div.sk-parallel-item:first-child::after {align-self: flex-end;width: 50%;}#sk-container-id-5 div.sk-parallel-item:last-child::after {align-self: flex-start;width: 50%;}#sk-container-id-5 div.sk-parallel-item:only-child::after {width: 0;}#sk-container-id-5 div.sk-dashed-wrapped {border: 1px dashed gray;margin: 0 0.4em 0.5em 0.4em;box-sizing: border-box;padding-bottom: 0.4em;background-color: white;}#sk-container-id-5 div.sk-label label {font-family: monospace;font-weight: bold;display: inline-block;line-height: 1.2em;}#sk-container-id-5 div.sk-label-container {text-align: center;}#sk-container-id-5 div.sk-container {/* jupyter's `normalize.less` sets `[hidden] { display: none; }` but bootstrap.min.css set `[hidden] { display: none !important; }` so we also need the `!important` here to be able to override the default hidden behavior on the sphinx rendered scikit-learn.org. See: https://github.com/scikit-learn/scikit-learn/issues/21755 */display: inline-block !important;position: relative;}#sk-container-id-5 div.sk-text-repr-fallback {display: none;}</style><div id=\"sk-container-id-5\" class=\"sk-top-container\"><div class=\"sk-text-repr-fallback\"><pre>SVC(C=0.0001, gamma=&#x27;auto&#x27;, kernel=&#x27;poly&#x27;, max_iter=1000)</pre><b>In a Jupyter environment, please rerun this cell to show the HTML representation or trust the notebook. <br />On GitHub, the HTML representation is unable to render, please try loading this page with nbviewer.org.</b></div><div class=\"sk-container\" hidden><div class=\"sk-item\"><div class=\"sk-estimator sk-toggleable\"><input class=\"sk-toggleable__control sk-hidden--visually\" id=\"sk-estimator-id-5\" type=\"checkbox\" checked><label for=\"sk-estimator-id-5\" class=\"sk-toggleable__label sk-toggleable__label-arrow\">SVC</label><div class=\"sk-toggleable__content\"><pre>SVC(C=0.0001, gamma=&#x27;auto&#x27;, kernel=&#x27;poly&#x27;, max_iter=1000)</pre></div></div></div></div></div>"
            ],
            "text/plain": [
              "SVC(C=0.0001, gamma='auto', kernel='poly', max_iter=1000)"
            ]
          },
          "execution_count": 119,
          "metadata": {},
          "output_type": "execute_result"
        }
      ],
      "source": [
        "# let us train our model again with the found hyperparameters\n",
        "\n",
        "SVM_Clf = SVC(C=0.0001, gamma='auto', kernel=\"poly\", max_iter=1000)\n",
        "SVM_Clf.fit(X_train, y_train)"
      ]
    },
    {
      "cell_type": "code",
      "execution_count": 121,
      "metadata": {},
      "outputs": [],
      "source": [
        "y_pred_new = SVM_Clf.predict(X_test)"
      ]
    },
    {
      "cell_type": "code",
      "execution_count": 122,
      "metadata": {},
      "outputs": [
        {
          "name": "stdout",
          "output_type": "stream",
          "text": [
            "Score after hyperparameter tuning: 0.98888889\n"
          ]
        }
      ],
      "source": [
        "model_score_new = SVM_Clf.score(X_test, y_test)\n",
        "print(f\"Score after hyperparameter tuning: {model_score_new.round(8)}\")"
      ]
    },
    {
      "cell_type": "code",
      "execution_count": 123,
      "metadata": {},
      "outputs": [
        {
          "data": {
            "text/plain": [
              "array([[26,  0,  0,  0,  0,  0,  0,  0,  0,  0],\n",
              "       [ 0, 23,  0,  0,  0,  0,  0,  0,  0,  0],\n",
              "       [ 0,  0, 25,  0,  0,  0,  0,  0,  0,  0],\n",
              "       [ 0,  0,  1, 33,  0,  0,  0,  0,  0,  0],\n",
              "       [ 0,  0,  0,  0, 23,  0,  0,  0,  0,  0],\n",
              "       [ 0,  0,  0,  0,  0, 19,  1,  0,  0,  0],\n",
              "       [ 0,  0,  0,  0,  0,  0, 27,  0,  0,  0],\n",
              "       [ 0,  0,  0,  0,  0,  0,  0, 31,  0,  0],\n",
              "       [ 0,  0,  0,  0,  0,  0,  0,  0, 31,  0],\n",
              "       [ 0,  0,  0,  0,  0,  1,  0,  0,  0, 29]], dtype=int64)"
            ]
          },
          "execution_count": 123,
          "metadata": {},
          "output_type": "execute_result"
        }
      ],
      "source": [
        "from sklearn.metrics import confusion_matrix\n",
        "cf=confusion_matrix(y_test,y_pred_new)\n",
        "cf"
      ]
    },
    {
      "cell_type": "code",
      "execution_count": 124,
      "metadata": {},
      "outputs": [
        {
          "data": {
            "text/plain": [
              "Text(51.0, 0.5, 'Actual')"
            ]
          },
          "execution_count": 124,
          "metadata": {},
          "output_type": "execute_result"
        },
        {
          "data": {
            "image/png": "[encoded data removed]",
            "text/plain": [
              "<Figure size 576x360 with 2 Axes>"
            ]
          },
          "metadata": {
            "needs_background": "light"
          },
          "output_type": "display_data"
        }
      ],
      "source": [
        "import seaborn as sns\n",
        "plt.figure(figsize=(8,5))\n",
        "sns.heatmap(cf,annot=True,fmt=',d')\n",
        "plt.xlabel('Predicted')\n",
        "plt.ylabel('Actual')"
      ]
    },
    {
      "cell_type": "code",
      "execution_count": 126,
      "metadata": {},
      "outputs": [
        {
          "name": "stdout",
          "output_type": "stream",
          "text": [
            "              precision    recall  f1-score   support\n",
            "\n",
            "           0       1.00      1.00      1.00        26\n",
            "           1       1.00      1.00      1.00        23\n",
            "           2       0.96      1.00      0.98        25\n",
            "           3       1.00      0.97      0.99        34\n",
            "           4       1.00      1.00      1.00        23\n",
            "           5       0.95      0.95      0.95        20\n",
            "           6       0.96      1.00      0.98        27\n",
            "           7       1.00      1.00      1.00        31\n",
            "           8       1.00      1.00      1.00        31\n",
            "           9       1.00      0.97      0.98        30\n",
            "\n",
            "    accuracy                           0.99       270\n",
            "   macro avg       0.99      0.99      0.99       270\n",
            "weighted avg       0.99      0.99      0.99       270\n",
            "\n"
          ]
        }
      ],
      "source": [
        "from sklearn.metrics import classification_report\n",
        "\n",
        "report = classification_report(y_test,y_pred_new)\n",
        "print(report)"
      ]
    },
    {
      "attachments": {},
      "cell_type": "markdown",
      "metadata": {},
      "source": [
        "the test performance of SVM classifier increases from 0.985185 to 0.988889"
      ]
    }
  ],
  "metadata": {
    "colab": {
      "authorship_tag": "ABX9TyO/6jkpfXty9ZWAsosvHjSw",
      "include_colab_link": true,
      "provenance": []
    },
    "kernelspec": {
      "display_name": "Python 3",
      "name": "python3"
    },
    "language_info": {
      "codemirror_mode": {
        "name": "ipython",
        "version": 3
      },
      "file_extension": ".py",
      "mimetype": "text/x-python",
      "name": "python",
      "nbconvert_exporter": "python",
      "pygments_lexer": "ipython3",
      "version": "3.10.1"
    }
  },
  "nbformat": 4,
  "nbformat_minor": 0
}
